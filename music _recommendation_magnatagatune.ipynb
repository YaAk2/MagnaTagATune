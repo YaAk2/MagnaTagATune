{
 "cells": [
  {
   "cell_type": "markdown",
   "metadata": {},
   "source": [
    "# Music Recommendation System Evaluation (MagnaTagATune)"
   ]
  },
  {
   "cell_type": "markdown",
   "metadata": {},
   "source": [
    "In this Notebook we are going to prepare MagnaTagATune dataset for recommendation and use it for toy recommendation systems. Before running this notebook generate a genre classifier model and download the 'Tag annotations', 'Similarity data' and the dataset. Link: http://mirg.city.ac.uk/codeapps/the-magnatagatune-dataset."
   ]
  },
  {
   "cell_type": "markdown",
   "metadata": {},
   "source": [
    "### Imports"
   ]
  },
  {
   "cell_type": "code",
   "execution_count": 2,
   "metadata": {},
   "outputs": [],
   "source": [
    "import os\n",
    "os.environ[\"CUDA_VISIBLE_DEVICES\"] = \"0\"\n",
    "os.environ[\"TF_CPP_MIN_LOG_LEVEL\"] = \"3\"\n",
    "\n",
    "import numpy as np\n",
    "import tensorflow as tf\n",
    "import tensorflow.keras\n",
    "from tensorflow.keras import backend as K\n",
    "from tensorflow.keras.models import Sequential, load_model\n",
    "from tensorflow.keras.layers import Dense, Dropout, Flatten\n",
    "from tensorflow.keras.layers import Conv2D, MaxPooling2D\n",
    "from tensorflow.keras.layers import BatchNormalization\n",
    "from tensorflow.keras import regularizers\n",
    "from tensorflow.keras import utils as np_utils\n",
    "from tensorflow.python.keras.layers import Layer\n",
    "from sklearn.metrics import precision_recall_fscore_support, confusion_matrix, accuracy_score, mean_squared_error\n",
    "from sklearn.utils.multiclass import unique_labels\n",
    "import matplotlib as plt\n",
    "plt.use(\"Agg\")\n",
    "%matplotlib inline\n",
    "from matplotlib import pyplot as plt\n",
    "import itertools\n",
    "import time\n",
    "import warnings\n",
    "warnings.filterwarnings('ignore')\n",
    "import IPython.display as ipd\n",
    "import librosa as lb \n",
    "from scipy.io import wavfile\n",
    "from scipy.spatial.distance import cosine as cos_distance\n",
    "from sklearn.model_selection import train_test_split\n",
    "import pandas as pd"
   ]
  },
  {
   "cell_type": "markdown",
   "metadata": {},
   "source": [
    "### Preprocess Data"
   ]
  },
  {
   "cell_type": "code",
   "execution_count": 3,
   "metadata": {},
   "outputs": [],
   "source": [
    "SR = 22050\n",
    "N_FFT = 512\n",
    "HOP_LENGTH = N_FFT // 2\n",
    "N_MELS = 64 "
   ]
  },
  {
   "cell_type": "code",
   "execution_count": 4,
   "metadata": {},
   "outputs": [],
   "source": [
    "def log_melspectrogram(data, log=True, plot=False, num='', genre=\"\"):\n",
    "\n",
    "    melspec = lb.feature.melspectrogram(y=data, hop_length = HOP_LENGTH, n_fft = N_FFT, n_mels = N_MELS)\n",
    "\n",
    "    if log:\n",
    "        melspec = lb.power_to_db(melspec**2)[:,1200:1373]\n",
    "        \n",
    "    if plot:\n",
    "        melspec = melspec[np.newaxis, :]\n",
    "        plt.imshow(melspec.reshape((melspec.shape[1],melspec.shape[2])))\n",
    "        plt.savefig('melspec'+str(num)+'_'+str(genre)+'.png')\n",
    "\n",
    "    return melspec\n",
    "\n",
    "def batch_log_melspectrogram(data_list, log=True, plot=False):\n",
    "    melspecs = np.asarray([log_melspectrogram(data_list[i],log=log,plot=plot) for i in range(len(data_list))])\n",
    "    return melspecs"
   ]
  },
  {
   "cell_type": "markdown",
   "metadata": {},
   "source": [
    "### Similarity Functions"
   ]
  },
  {
   "cell_type": "code",
   "execution_count": 5,
   "metadata": {},
   "outputs": [],
   "source": [
    "def euclid(x, y):\n",
    "    return np.sqrt(np.sum((x - y)**2, axis=1))\n",
    "\n",
    "def cosine(x, y):\n",
    "    num = np.sum(x*y, axis=1)\n",
    "    denom = np.sqrt(np.dot(x, x.T))*np.diag(np.sqrt(np.dot(y, y.T)))\n",
    "    \n",
    "    return np.squeeze(1 - num/denom, axis=0).T\n",
    "\n",
    "def jaccard_similarity(list1, list2):\n",
    "    s1 = set(list1)\n",
    "    s2 = set(list2)\n",
    "    return len(s1.intersection(s2)) / len(s1.union(s2))"
   ]
  },
  {
   "cell_type": "markdown",
   "metadata": {},
   "source": [
    "### Load Model "
   ]
  },
  {
   "cell_type": "code",
   "execution_count": 6,
   "metadata": {},
   "outputs": [
    {
     "name": "stdout",
     "output_type": "stream",
     "text": [
      "Model: \"model\"\n",
      "__________________________________________________________________________________________________\n",
      "Layer (type)                    Output Shape         Param #     Connected to                     \n",
      "==================================================================================================\n",
      "input_1 (InputLayer)            [(None, 64, 173, 1)] 0                                            \n",
      "__________________________________________________________________________________________________\n",
      "conv2d (Conv2D)                 (None, 62, 171, 32)  320         input_1[0][0]                    \n",
      "__________________________________________________________________________________________________\n",
      "conv2d_1 (Conv2D)               (None, 60, 169, 64)  18496       conv2d[0][0]                     \n",
      "__________________________________________________________________________________________________\n",
      "max_pooling2d (MaxPooling2D)    (None, 20, 56, 64)   0           conv2d_1[0][0]                   \n",
      "__________________________________________________________________________________________________\n",
      "conv2d_2 (Conv2D)               (None, 20, 56, 64)   36928       max_pooling2d[0][0]              \n",
      "__________________________________________________________________________________________________\n",
      "batch_normalization (BatchNorma (None, 20, 56, 64)   256         conv2d_2[0][0]                   \n",
      "__________________________________________________________________________________________________\n",
      "conv2d_3 (Conv2D)               (None, 20, 56, 64)   36928       batch_normalization[0][0]        \n",
      "__________________________________________________________________________________________________\n",
      "batch_normalization_1 (BatchNor (None, 20, 56, 64)   256         conv2d_3[0][0]                   \n",
      "__________________________________________________________________________________________________\n",
      "add (Add)                       (None, 20, 56, 64)   0           batch_normalization_1[0][0]      \n",
      "                                                                 max_pooling2d[0][0]              \n",
      "__________________________________________________________________________________________________\n",
      "activation (Activation)         (None, 20, 56, 64)   0           add[0][0]                        \n",
      "__________________________________________________________________________________________________\n",
      "conv2d_4 (Conv2D)               (None, 20, 56, 64)   36928       activation[0][0]                 \n",
      "__________________________________________________________________________________________________\n",
      "batch_normalization_2 (BatchNor (None, 20, 56, 64)   256         conv2d_4[0][0]                   \n",
      "__________________________________________________________________________________________________\n",
      "conv2d_5 (Conv2D)               (None, 20, 56, 64)   36928       batch_normalization_2[0][0]      \n",
      "__________________________________________________________________________________________________\n",
      "batch_normalization_3 (BatchNor (None, 20, 56, 64)   256         conv2d_5[0][0]                   \n",
      "__________________________________________________________________________________________________\n",
      "add_1 (Add)                     (None, 20, 56, 64)   0           batch_normalization_3[0][0]      \n",
      "                                                                 activation[0][0]                 \n",
      "__________________________________________________________________________________________________\n",
      "activation_1 (Activation)       (None, 20, 56, 64)   0           add_1[0][0]                      \n",
      "__________________________________________________________________________________________________\n",
      "conv2d_6 (Conv2D)               (None, 20, 56, 64)   36928       activation_1[0][0]               \n",
      "__________________________________________________________________________________________________\n",
      "batch_normalization_4 (BatchNor (None, 20, 56, 64)   256         conv2d_6[0][0]                   \n",
      "__________________________________________________________________________________________________\n",
      "conv2d_7 (Conv2D)               (None, 20, 56, 64)   36928       batch_normalization_4[0][0]      \n",
      "__________________________________________________________________________________________________\n",
      "batch_normalization_5 (BatchNor (None, 20, 56, 64)   256         conv2d_7[0][0]                   \n",
      "__________________________________________________________________________________________________\n",
      "add_2 (Add)                     (None, 20, 56, 64)   0           batch_normalization_5[0][0]      \n",
      "                                                                 activation_1[0][0]               \n",
      "__________________________________________________________________________________________________\n",
      "activation_2 (Activation)       (None, 20, 56, 64)   0           add_2[0][0]                      \n",
      "__________________________________________________________________________________________________\n",
      "conv2d_8 (Conv2D)               (None, 20, 56, 64)   36928       activation_2[0][0]               \n",
      "__________________________________________________________________________________________________\n",
      "batch_normalization_6 (BatchNor (None, 20, 56, 64)   256         conv2d_8[0][0]                   \n",
      "__________________________________________________________________________________________________\n",
      "conv2d_9 (Conv2D)               (None, 20, 56, 64)   36928       batch_normalization_6[0][0]      \n",
      "__________________________________________________________________________________________________\n",
      "batch_normalization_7 (BatchNor (None, 20, 56, 64)   256         conv2d_9[0][0]                   \n",
      "__________________________________________________________________________________________________\n",
      "add_3 (Add)                     (None, 20, 56, 64)   0           batch_normalization_7[0][0]      \n",
      "                                                                 activation_2[0][0]               \n",
      "__________________________________________________________________________________________________\n",
      "activation_3 (Activation)       (None, 20, 56, 64)   0           add_3[0][0]                      \n",
      "__________________________________________________________________________________________________\n",
      "conv2d_10 (Conv2D)              (None, 20, 56, 64)   36928       activation_3[0][0]               \n",
      "__________________________________________________________________________________________________\n",
      "batch_normalization_8 (BatchNor (None, 20, 56, 64)   256         conv2d_10[0][0]                  \n",
      "__________________________________________________________________________________________________\n",
      "conv2d_11 (Conv2D)              (None, 20, 56, 64)   36928       batch_normalization_8[0][0]      \n",
      "__________________________________________________________________________________________________\n",
      "batch_normalization_9 (BatchNor (None, 20, 56, 64)   256         conv2d_11[0][0]                  \n",
      "__________________________________________________________________________________________________\n",
      "add_4 (Add)                     (None, 20, 56, 64)   0           batch_normalization_9[0][0]      \n",
      "                                                                 activation_3[0][0]               \n",
      "__________________________________________________________________________________________________\n",
      "activation_4 (Activation)       (None, 20, 56, 64)   0           add_4[0][0]                      \n",
      "__________________________________________________________________________________________________\n",
      "conv2d_12 (Conv2D)              (None, 20, 56, 64)   36928       activation_4[0][0]               \n",
      "__________________________________________________________________________________________________\n",
      "batch_normalization_10 (BatchNo (None, 20, 56, 64)   256         conv2d_12[0][0]                  \n",
      "__________________________________________________________________________________________________\n",
      "conv2d_13 (Conv2D)              (None, 20, 56, 64)   36928       batch_normalization_10[0][0]     \n",
      "__________________________________________________________________________________________________\n",
      "batch_normalization_11 (BatchNo (None, 20, 56, 64)   256         conv2d_13[0][0]                  \n",
      "__________________________________________________________________________________________________\n",
      "add_5 (Add)                     (None, 20, 56, 64)   0           batch_normalization_11[0][0]     \n",
      "                                                                 activation_4[0][0]               \n",
      "__________________________________________________________________________________________________\n",
      "activation_5 (Activation)       (None, 20, 56, 64)   0           add_5[0][0]                      \n",
      "__________________________________________________________________________________________________\n",
      "conv2d_14 (Conv2D)              (None, 20, 56, 64)   36928       activation_5[0][0]               \n",
      "__________________________________________________________________________________________________\n",
      "batch_normalization_12 (BatchNo (None, 20, 56, 64)   256         conv2d_14[0][0]                  \n",
      "__________________________________________________________________________________________________\n",
      "conv2d_15 (Conv2D)              (None, 20, 56, 64)   36928       batch_normalization_12[0][0]     \n",
      "__________________________________________________________________________________________________\n",
      "batch_normalization_13 (BatchNo (None, 20, 56, 64)   256         conv2d_15[0][0]                  \n",
      "__________________________________________________________________________________________________\n",
      "add_6 (Add)                     (None, 20, 56, 64)   0           batch_normalization_13[0][0]     \n",
      "                                                                 activation_5[0][0]               \n",
      "__________________________________________________________________________________________________\n",
      "activation_6 (Activation)       (None, 20, 56, 64)   0           add_6[0][0]                      \n",
      "__________________________________________________________________________________________________\n",
      "conv2d_16 (Conv2D)              (None, 20, 56, 64)   36928       activation_6[0][0]               \n",
      "__________________________________________________________________________________________________\n",
      "batch_normalization_14 (BatchNo (None, 20, 56, 64)   256         conv2d_16[0][0]                  \n",
      "__________________________________________________________________________________________________\n",
      "conv2d_17 (Conv2D)              (None, 20, 56, 64)   36928       batch_normalization_14[0][0]     \n",
      "__________________________________________________________________________________________________\n",
      "batch_normalization_15 (BatchNo (None, 20, 56, 64)   256         conv2d_17[0][0]                  \n",
      "__________________________________________________________________________________________________\n",
      "add_7 (Add)                     (None, 20, 56, 64)   0           batch_normalization_15[0][0]     \n",
      "                                                                 activation_6[0][0]               \n",
      "__________________________________________________________________________________________________\n",
      "activation_7 (Activation)       (None, 20, 56, 64)   0           add_7[0][0]                      \n",
      "__________________________________________________________________________________________________\n",
      "conv2d_18 (Conv2D)              (None, 20, 56, 64)   36928       activation_7[0][0]               \n",
      "__________________________________________________________________________________________________\n",
      "batch_normalization_16 (BatchNo (None, 20, 56, 64)   256         conv2d_18[0][0]                  \n",
      "__________________________________________________________________________________________________\n",
      "conv2d_19 (Conv2D)              (None, 20, 56, 64)   36928       batch_normalization_16[0][0]     \n",
      "__________________________________________________________________________________________________\n",
      "batch_normalization_17 (BatchNo (None, 20, 56, 64)   256         conv2d_19[0][0]                  \n",
      "__________________________________________________________________________________________________\n",
      "add_8 (Add)                     (None, 20, 56, 64)   0           batch_normalization_17[0][0]     \n",
      "                                                                 activation_7[0][0]               \n",
      "__________________________________________________________________________________________________\n",
      "activation_8 (Activation)       (None, 20, 56, 64)   0           add_8[0][0]                      \n",
      "__________________________________________________________________________________________________\n",
      "conv2d_20 (Conv2D)              (None, 20, 56, 64)   36928       activation_8[0][0]               \n",
      "__________________________________________________________________________________________________\n",
      "batch_normalization_18 (BatchNo (None, 20, 56, 64)   256         conv2d_20[0][0]                  \n",
      "__________________________________________________________________________________________________\n",
      "conv2d_21 (Conv2D)              (None, 20, 56, 64)   36928       batch_normalization_18[0][0]     \n",
      "__________________________________________________________________________________________________\n",
      "batch_normalization_19 (BatchNo (None, 20, 56, 64)   256         conv2d_21[0][0]                  \n",
      "__________________________________________________________________________________________________\n",
      "add_9 (Add)                     (None, 20, 56, 64)   0           batch_normalization_19[0][0]     \n",
      "                                                                 activation_8[0][0]               \n",
      "__________________________________________________________________________________________________\n",
      "activation_9 (Activation)       (None, 20, 56, 64)   0           add_9[0][0]                      \n",
      "__________________________________________________________________________________________________\n",
      "conv2d_22 (Conv2D)              (None, 18, 54, 64)   36928       activation_9[0][0]               \n",
      "__________________________________________________________________________________________________\n",
      "global_average_pooling2d (Globa (None, 64)           0           conv2d_22[0][0]                  \n",
      "__________________________________________________________________________________________________\n",
      "dense (Dense)                   (None, 256)          16640       global_average_pooling2d[0][0]   \n",
      "__________________________________________________________________________________________________\n",
      "dropout (Dropout)               (None, 256)          0           dense[0][0]                      \n",
      "__________________________________________________________________________________________________\n",
      "dense_1 (Dense)                 (None, 10)           2570        dropout[0][0]                    \n",
      "==================================================================================================\n",
      "Total params: 818,634\n",
      "Trainable params: 816,074\n",
      "Non-trainable params: 2,560\n",
      "__________________________________________________________________________________________________\n"
     ]
    }
   ],
   "source": [
    "model = load_model('music_classifier_v1.h5', compile=False) # Place here your genre classifier\n",
    "model.summary()"
   ]
  },
  {
   "cell_type": "markdown",
   "metadata": {},
   "source": [
    "## Prepare Data for Evaluation of Music Recommendation"
   ]
  },
  {
   "cell_type": "code",
   "execution_count": 7,
   "metadata": {},
   "outputs": [
    {
     "data": {
      "text/html": [
       "<div>\n",
       "<style scoped>\n",
       "    .dataframe tbody tr th:only-of-type {\n",
       "        vertical-align: middle;\n",
       "    }\n",
       "\n",
       "    .dataframe tbody tr th {\n",
       "        vertical-align: top;\n",
       "    }\n",
       "\n",
       "    .dataframe thead th {\n",
       "        text-align: right;\n",
       "    }\n",
       "</style>\n",
       "<table border=\"1\" class=\"dataframe\">\n",
       "  <thead>\n",
       "    <tr style=\"text-align: right;\">\n",
       "      <th></th>\n",
       "      <th>clip_id</th>\n",
       "      <th>no voice</th>\n",
       "      <th>singer</th>\n",
       "      <th>duet</th>\n",
       "      <th>plucking</th>\n",
       "      <th>hard rock</th>\n",
       "      <th>world</th>\n",
       "      <th>bongos</th>\n",
       "      <th>harpsichord</th>\n",
       "      <th>female singing</th>\n",
       "      <th>...</th>\n",
       "      <th>rap</th>\n",
       "      <th>metal</th>\n",
       "      <th>hip hop</th>\n",
       "      <th>quick</th>\n",
       "      <th>water</th>\n",
       "      <th>baroque</th>\n",
       "      <th>women</th>\n",
       "      <th>fiddle</th>\n",
       "      <th>english</th>\n",
       "      <th>mp3_path</th>\n",
       "    </tr>\n",
       "  </thead>\n",
       "  <tbody>\n",
       "    <tr>\n",
       "      <th>0</th>\n",
       "      <td>2</td>\n",
       "      <td>0</td>\n",
       "      <td>0</td>\n",
       "      <td>0</td>\n",
       "      <td>0</td>\n",
       "      <td>0</td>\n",
       "      <td>0</td>\n",
       "      <td>0</td>\n",
       "      <td>0</td>\n",
       "      <td>0</td>\n",
       "      <td>...</td>\n",
       "      <td>0</td>\n",
       "      <td>0</td>\n",
       "      <td>0</td>\n",
       "      <td>0</td>\n",
       "      <td>0</td>\n",
       "      <td>0</td>\n",
       "      <td>0</td>\n",
       "      <td>0</td>\n",
       "      <td>0</td>\n",
       "      <td>f/american_bach_soloists-j_s__bach_solo_cantat...</td>\n",
       "    </tr>\n",
       "    <tr>\n",
       "      <th>1</th>\n",
       "      <td>6</td>\n",
       "      <td>0</td>\n",
       "      <td>0</td>\n",
       "      <td>0</td>\n",
       "      <td>0</td>\n",
       "      <td>0</td>\n",
       "      <td>0</td>\n",
       "      <td>0</td>\n",
       "      <td>0</td>\n",
       "      <td>0</td>\n",
       "      <td>...</td>\n",
       "      <td>0</td>\n",
       "      <td>0</td>\n",
       "      <td>0</td>\n",
       "      <td>0</td>\n",
       "      <td>0</td>\n",
       "      <td>1</td>\n",
       "      <td>0</td>\n",
       "      <td>0</td>\n",
       "      <td>0</td>\n",
       "      <td>f/american_bach_soloists-j_s__bach_solo_cantat...</td>\n",
       "    </tr>\n",
       "  </tbody>\n",
       "</table>\n",
       "<p>2 rows × 190 columns</p>\n",
       "</div>"
      ],
      "text/plain": [
       "   clip_id  no voice  singer  duet  plucking  hard rock  world  bongos  \\\n",
       "0        2         0       0     0         0          0      0       0   \n",
       "1        6         0       0     0         0          0      0       0   \n",
       "\n",
       "   harpsichord  female singing  ...  rap  metal  hip hop  quick  water  \\\n",
       "0            0               0  ...    0      0        0      0      0   \n",
       "1            0               0  ...    0      0        0      0      0   \n",
       "\n",
       "   baroque  women  fiddle  english  \\\n",
       "0        0      0       0        0   \n",
       "1        1      0       0        0   \n",
       "\n",
       "                                            mp3_path  \n",
       "0  f/american_bach_soloists-j_s__bach_solo_cantat...  \n",
       "1  f/american_bach_soloists-j_s__bach_solo_cantat...  \n",
       "\n",
       "[2 rows x 190 columns]"
      ]
     },
     "execution_count": 7,
     "metadata": {},
     "output_type": "execute_result"
    }
   ],
   "source": [
    "# Get Annotations\n",
    "annotations = pd.read_csv('annotations_final.csv', sep=\"\\t\")\n",
    "annotations.head(2)"
   ]
  },
  {
   "cell_type": "code",
   "execution_count": 8,
   "metadata": {
    "scrolled": true
   },
   "outputs": [
    {
     "data": {
      "text/html": [
       "<div>\n",
       "<style scoped>\n",
       "    .dataframe tbody tr th:only-of-type {\n",
       "        vertical-align: middle;\n",
       "    }\n",
       "\n",
       "    .dataframe tbody tr th {\n",
       "        vertical-align: top;\n",
       "    }\n",
       "\n",
       "    .dataframe thead th {\n",
       "        text-align: right;\n",
       "    }\n",
       "</style>\n",
       "<table border=\"1\" class=\"dataframe\">\n",
       "  <thead>\n",
       "    <tr style=\"text-align: right;\">\n",
       "      <th></th>\n",
       "      <th>clip1_id</th>\n",
       "      <th>clip2_id</th>\n",
       "      <th>clip3_id</th>\n",
       "      <th>clip1_numvotes</th>\n",
       "      <th>clip2_numvotes</th>\n",
       "      <th>clip3_numvotes</th>\n",
       "      <th>clip1_mp3_path</th>\n",
       "      <th>clip2_mp3_path</th>\n",
       "      <th>clip3_mp3_path</th>\n",
       "    </tr>\n",
       "  </thead>\n",
       "  <tbody>\n",
       "    <tr>\n",
       "      <th>0</th>\n",
       "      <td>42344</td>\n",
       "      <td>52148</td>\n",
       "      <td>53079</td>\n",
       "      <td>3</td>\n",
       "      <td>1</td>\n",
       "      <td>6</td>\n",
       "      <td>8/jacob_heringman-josquin_des_prez_lute_settin...</td>\n",
       "      <td>4/tim_rayborn-the_path_beyond-14-taqsim_ud-175...</td>\n",
       "      <td>9/the_wretch-ambulatory-15-release-146-175.mp3</td>\n",
       "    </tr>\n",
       "    <tr>\n",
       "      <th>1</th>\n",
       "      <td>44925</td>\n",
       "      <td>17654</td>\n",
       "      <td>56325</td>\n",
       "      <td>2</td>\n",
       "      <td>0</td>\n",
       "      <td>0</td>\n",
       "      <td>0/american_bach_soloists-j_s__bach__cantatas_v...</td>\n",
       "      <td>8/hybris-the_first_words-04-final_trust-146-17...</td>\n",
       "      <td>9/the_strap_ons-geeking_crime-20-pimps-59-88.mp3</td>\n",
       "    </tr>\n",
       "    <tr>\n",
       "      <th>2</th>\n",
       "      <td>25699</td>\n",
       "      <td>2619</td>\n",
       "      <td>15184</td>\n",
       "      <td>0</td>\n",
       "      <td>0</td>\n",
       "      <td>2</td>\n",
       "      <td>b/philharmonia_baroque-beethoven_symphonies_no...</td>\n",
       "      <td>4/jay_kishor-the_color_of_night-01-malkauns-10...</td>\n",
       "      <td>4/seth_carlin-schubert__works_for_solo_fortepi...</td>\n",
       "    </tr>\n",
       "  </tbody>\n",
       "</table>\n",
       "</div>"
      ],
      "text/plain": [
       "   clip1_id  clip2_id  clip3_id  clip1_numvotes  clip2_numvotes  \\\n",
       "0     42344     52148     53079               3               1   \n",
       "1     44925     17654     56325               2               0   \n",
       "2     25699      2619     15184               0               0   \n",
       "\n",
       "   clip3_numvotes                                     clip1_mp3_path  \\\n",
       "0               6  8/jacob_heringman-josquin_des_prez_lute_settin...   \n",
       "1               0  0/american_bach_soloists-j_s__bach__cantatas_v...   \n",
       "2               2  b/philharmonia_baroque-beethoven_symphonies_no...   \n",
       "\n",
       "                                      clip2_mp3_path  \\\n",
       "0  4/tim_rayborn-the_path_beyond-14-taqsim_ud-175...   \n",
       "1  8/hybris-the_first_words-04-final_trust-146-17...   \n",
       "2  4/jay_kishor-the_color_of_night-01-malkauns-10...   \n",
       "\n",
       "                                      clip3_mp3_path  \n",
       "0     9/the_wretch-ambulatory-15-release-146-175.mp3  \n",
       "1   9/the_strap_ons-geeking_crime-20-pimps-59-88.mp3  \n",
       "2  4/seth_carlin-schubert__works_for_solo_fortepi...  "
      ]
     },
     "execution_count": 8,
     "metadata": {},
     "output_type": "execute_result"
    }
   ],
   "source": [
    "\n",
    "# Get Votes\n",
    "comparisons = pd.read_csv('comparisons_final.csv', sep=\"\\t\")\n",
    "comparisons.head(3)"
   ]
  },
  {
   "cell_type": "code",
   "execution_count": 9,
   "metadata": {},
   "outputs": [],
   "source": [
    "# Extract most similar playlists\n",
    "sum_numvotes = 1\n",
    "clip1_numvotes = comparisons['clip1_numvotes']\n",
    "clip2_numvotes = comparisons['clip2_numvotes']\n",
    "clip3_numvotes = comparisons['clip3_numvotes']\n",
    "clip_numvotes = clip1_numvotes + clip2_numvotes + clip3_numvotes  \n",
    "similar_playlists_idx = np.squeeze(np.where(clip_numvotes<=sum_numvotes))\n",
    "dissimilar_playlists_idx = np.squeeze(np.where(clip_numvotes>sum_numvotes))\n",
    "comparisons.drop(list(dissimilar_playlists_idx), inplace=True)\n",
    "similar_playlists = comparisons"
   ]
  },
  {
   "cell_type": "code",
   "execution_count": 10,
   "metadata": {},
   "outputs": [],
   "source": [
    "# Load audio files\n",
    "songs = []\n",
    "ids = []\n",
    "\n",
    "for i in range(1,4):\n",
    "    j=0\n",
    "    for path in similar_playlists['clip' + str(i) + '_mp3_path']:\n",
    "        song, _ = lb.load('mp3/'+ path, sr=None)\n",
    "        songs.append(song)\n",
    "        ids.append(list(similar_playlists['clip' + str(i) + '_id'])[j])\n",
    "        j+=1"
   ]
  },
  {
   "cell_type": "code",
   "execution_count": 11,
   "metadata": {},
   "outputs": [],
   "source": [
    "# Mel-spectrograms\n",
    "data = batch_log_melspectrogram(songs)"
   ]
  },
  {
   "cell_type": "code",
   "execution_count": 12,
   "metadata": {},
   "outputs": [],
   "source": [
    "# Predict the genres for the data\n",
    "corpus_predictions = model.predict(data[:, :, :, np.newaxis])"
   ]
  },
  {
   "cell_type": "code",
   "execution_count": 15,
   "metadata": {},
   "outputs": [
    {
     "name": "stdout",
     "output_type": "stream",
     "text": [
      "[ 6.  9. 13.  3.  1.  0.  6. 19.  3.  8.]\n"
     ]
    }
   ],
   "source": [
    "# Distribution of Data\n",
    "distribution = []\n",
    "\n",
    "for i in range(len(similar_playlists)):\n",
    "    idx = corpus_predictions[i].argmax()\n",
    "    one_hot = np.zeros(10)\n",
    "    one_hot[idx] = 1\n",
    "    distribution.append(one_hot)\n",
    "\n",
    "# Blues, Classical, Country, Disco, Hip hop, Jazz, Metal, Pop, Reggae, Rock\n",
    "print(np.asarray(distribution).sum(axis=0))"
   ]
  },
  {
   "cell_type": "markdown",
   "metadata": {},
   "source": [
    "## Similarity based on last FC-Layer"
   ]
  },
  {
   "cell_type": "code",
   "execution_count": 16,
   "metadata": {},
   "outputs": [],
   "source": [
    "# Predict only for column clip1_id\n",
    "# Accuracy: Top-5 Accuracy\n",
    "predicted_playlist_cosine = []\n",
    "i=0\n",
    "for x in data[:len(similar_playlists)]:\n",
    "    tmp_predictions = np.delete(corpus_predictions, i, axis=0)\n",
    "    tmp_ids = np.delete(ids, i)\n",
    "    test_prediction = model.predict(x[np.newaxis, :, :, np.newaxis], steps=1)\n",
    "    cosine_vec = cosine(test_prediction, tmp_predictions)\n",
    "    predicted_playlist_cosine.append((tmp_ids[cosine_vec.argsort()[0]], \n",
    "                                      tmp_ids[cosine_vec.argsort()[1]], \n",
    "                                      tmp_ids[cosine_vec.argsort()[2]],\n",
    "                                      tmp_ids[cosine_vec.argsort()[3]],\n",
    "                                      tmp_ids[cosine_vec.argsort()[4]]))\n",
    "    i+=1"
   ]
  },
  {
   "cell_type": "code",
   "execution_count": 17,
   "metadata": {},
   "outputs": [
    {
     "name": "stdout",
     "output_type": "stream",
     "text": [
      "0.058823529411764705\n"
     ]
    }
   ],
   "source": [
    "score = 0\n",
    "target_playlist = list(np.asarray(comparisons[[ 'clip2_id', 'clip3_id']]))\n",
    "\n",
    "for i in range(len(predicted_playlist_cosine)):\n",
    "    if (target_playlist[i][0] in predicted_playlist_cosine[i]) or (target_playlist[i][1] in predicted_playlist_cosine[i]):\n",
    "        score+=1\n",
    "        \n",
    "top5_accuracy = score /len(similar_playlists) #if predicted playlist contains all songs in target playlist\n",
    "print(top5_accuracy)"
   ]
  },
  {
   "cell_type": "markdown",
   "metadata": {},
   "source": [
    "## Data-Driven  Approach"
   ]
  },
  {
   "cell_type": "markdown",
   "metadata": {},
   "source": [
    "### Prepare data"
   ]
  },
  {
   "cell_type": "code",
   "execution_count": 18,
   "metadata": {},
   "outputs": [],
   "source": [
    "val_size = round(len(similar_playlists)*0.1)\n",
    "test_size = round(len(similar_playlists)*0.1)\n",
    "\n",
    "train_set = corpus_predictions[:len(similar_playlists)-test_size-val_size][:, :, np.newaxis]\n",
    "train_size = len(train_set)\n",
    "val_set = corpus_predictions[len(similar_playlists)-test_size-val_size:len(similar_playlists)-test_size][:, :, np.newaxis]\n",
    "\n",
    "test_set = corpus_predictions[len(similar_playlists)-test_size:len(similar_playlists)][:, :, np.newaxis]\n",
    "\n",
    "data = np.concatenate((corpus_predictions[:len(similar_playlists)],\n",
    "                    corpus_predictions[len(similar_playlists):(len(similar_playlists)*2)]), axis=1)[:, :, np.newaxis]\n",
    "\n",
    "x_test = data[::-1][:test_size]\n",
    "\n",
    "x = np.delete(data[::-1], list(range(test_size)), axis=0 )"
   ]
  },
  {
   "cell_type": "code",
   "execution_count": 20,
   "metadata": {},
   "outputs": [],
   "source": [
    "# Ground Truth: Jaccard Similarity\n",
    "annotations = pd.read_csv('annotations_final.csv', sep=\"\\t\")\n",
    "annotations = np.asarray(annotations.drop('mp3_path', axis=1))\n",
    "clip1_tags = annotations[[list(annotations[:,0]).index(id) for id in similar_playlists['clip1_id']]][:, 1:]\n",
    "clip2_tags = annotations[[list(annotations[:,0]).index(id) for id in similar_playlists['clip2_id']]][:, 1:]\n",
    "\n",
    "jaccard = []\n",
    "\n",
    "for i in range(len(similar_playlists)):\n",
    "    jaccard.append(jaccard_similarity(clip1_tags[i], clip2_tags[i]))\n",
    "truths = np.asarray(jaccard)[:, np.newaxis]#, np.newaxis]\n",
    "\n",
    "y_test = truths[::-1][:test_size]\n",
    "\n",
    "y = np.delete(truths[::-1], list(range(test_size)), axis=0 )"
   ]
  },
  {
   "cell_type": "code",
   "execution_count": 21,
   "metadata": {},
   "outputs": [],
   "source": [
    "#split data\n",
    "x_tr, x_val, y_tr, y_val = train_test_split(x, y, test_size=0.1, shuffle=False)"
   ]
  },
  {
   "cell_type": "markdown",
   "metadata": {},
   "source": [
    "### FC: Network Architektur"
   ]
  },
  {
   "cell_type": "code",
   "execution_count": 26,
   "metadata": {},
   "outputs": [
    {
     "name": "stdout",
     "output_type": "stream",
     "text": [
      "Model: \"sequential_1\"\n",
      "_________________________________________________________________\n",
      "Layer (type)                 Output Shape              Param #   \n",
      "=================================================================\n",
      "dense_3 (Dense)              (None, 20, 20)            40        \n",
      "_________________________________________________________________\n",
      "dropout_2 (Dropout)          (None, 20, 20)            0         \n",
      "_________________________________________________________________\n",
      "dense_4 (Dense)              (None, 20, 30)            630       \n",
      "_________________________________________________________________\n",
      "dropout_3 (Dropout)          (None, 20, 30)            0         \n",
      "_________________________________________________________________\n",
      "flatten_1 (Flatten)          (None, 600)               0         \n",
      "_________________________________________________________________\n",
      "dense_5 (Dense)              (None, 1)                 601       \n",
      "=================================================================\n",
      "Total params: 1,271\n",
      "Trainable params: 1,271\n",
      "Non-trainable params: 0\n",
      "_________________________________________________________________\n"
     ]
    }
   ],
   "source": [
    "reg = 0.001\n",
    "drop = 0.5\n",
    "\n",
    "recommendation_model = Sequential()\n",
    "recommendation_model.add(Dense(20, activation='relu', use_bias=True, kernel_regularizer=regularizers.l2(reg), input_shape=(20, 1)))\n",
    "recommendation_model.add(Dropout(drop))\n",
    "recommendation_model.add(Dense(30, activation='relu', kernel_regularizer=regularizers.l2(reg), use_bias=True))\n",
    "recommendation_model.add(Dropout(drop))\n",
    "recommendation_model.add(Flatten(data_format=None))\n",
    "recommendation_model.add(Dense(1, activation='sigmoid', kernel_regularizer=regularizers.l2(reg), use_bias=True))\n",
    "\n",
    "def mean_pred(y_true, y_pred):\n",
    "    return K.mean(y_pred)\n",
    "\n",
    "recommendation_model.compile(loss=tensorflow.keras.losses.mean_squared_error,\n",
    "              optimizer=tensorflow.keras.optimizers.Adam(lr=0.001, beta_1=0.9, beta_2=0.999, epsilon=1e-08, decay=0.0),\n",
    "              metrics=['accuracy', mean_pred]) #accuracy does not have any meaning \n",
    "recommendation_model.summary()"
   ]
  },
  {
   "cell_type": "markdown",
   "metadata": {},
   "source": [
    "### Fit/Train model and evaluate"
   ]
  },
  {
   "cell_type": "code",
   "execution_count": 27,
   "metadata": {
    "scrolled": true
   },
   "outputs": [
    {
     "name": "stdout",
     "output_type": "stream",
     "text": [
      "\n",
      "\n",
      "7/7 [==============================] - 0s 330us/sample - loss: 0.0593 - accuracy: 0.7143 - mean_pred: 0.8973\n",
      "\n",
      "Training took  11.357728481292725 seconds\n"
     ]
    }
   ],
   "source": [
    "batch_size = 4\n",
    "epochs = 250\n",
    "start = time.time()\n",
    "history = recommendation_model.fit(x=x_tr,\n",
    "                                   y=y_tr,\n",
    "                                   validation_data=(x_val, y_val),\n",
    "                                   batch_size=batch_size,\n",
    "                                   epochs=epochs,\n",
    "                                   verbose=0,\n",
    "                                   shuffle=True)\n",
    "\n",
    "print(\"\\n\")\n",
    "recommendation_model.evaluate(x_val, y_val)\n",
    "print(\"\\nTraining took \", time.time()-start, \"seconds\")"
   ]
  },
  {
   "cell_type": "code",
   "execution_count": 28,
   "metadata": {},
   "outputs": [
    {
     "data": {
      "image/png": "[encoded data removed]",
      "text/plain": [
       "<Figure size 432x288 with 1 Axes>"
      ]
     },
     "metadata": {
      "needs_background": "light"
     },
     "output_type": "display_data"
    }
   ],
   "source": [
    "# Plot training & validation loss values\n",
    "plt.plot(history.history['loss'])\n",
    "plt.plot(history.history['val_loss'])\n",
    "plt.title('Model Loss')\n",
    "plt.ylabel('MSE')\n",
    "plt.xlabel('Epoch')\n",
    "plt.legend(['Train', 'Val'], loc='upper left')\n",
    "plt.show()\n",
    "\n",
    "#NOTE: Dropout makes the training loss >= test loss for every epoch"
   ]
  },
  {
   "cell_type": "markdown",
   "metadata": {},
   "source": [
    "### Evaluation"
   ]
  },
  {
   "cell_type": "markdown",
   "metadata": {},
   "source": [
    "#### MSE"
   ]
  },
  {
   "cell_type": "code",
   "execution_count": 29,
   "metadata": {},
   "outputs": [
    {
     "name": "stdout",
     "output_type": "stream",
     "text": [
      "0.030126414936776463\n"
     ]
    }
   ],
   "source": [
    "predictions = recommendation_model.predict(x_test)\n",
    "mse = mean_squared_error(y_test, predictions)\n",
    "print(mse)"
   ]
  },
  {
   "cell_type": "markdown",
   "metadata": {},
   "source": [
    "### Save model"
   ]
  },
  {
   "cell_type": "code",
   "execution_count": 30,
   "metadata": {},
   "outputs": [],
   "source": [
    "recommendation_model.save('recommendation_model.h5')"
   ]
  }
 ],
 "metadata": {
  "kernelspec": {
   "display_name": "Python 3",
   "language": "python",
   "name": "python3"
  },
  "language_info": {
   "codemirror_mode": {
    "name": "ipython",
    "version": 3
   },
   "file_extension": ".py",
   "mimetype": "text/x-python",
   "name": "python",
   "nbconvert_exporter": "python",
   "pygments_lexer": "ipython3",
   "version": "3.7.3"
  }
 },
 "nbformat": 4,
 "nbformat_minor": 2
}
